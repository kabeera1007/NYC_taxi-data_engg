{
 "cells": [
  {
   "cell_type": "code",
   "execution_count": 1,
   "id": "dbc3f76b-363d-4d52-895f-32f703da1088",
   "metadata": {},
   "outputs": [],
   "source": [
    "import pyspark\n",
    "from pyspark.sql import SparkSession\n",
    "from pyspark.conf import SparkConf\n",
    "from pyspark.context import SparkContext"
   ]
  },
  {
   "cell_type": "code",
   "execution_count": 2,
   "id": "04e7c57f-b6f7-46ee-bafb-ecae8ed25e28",
   "metadata": {},
   "outputs": [],
   "source": [
    "credentials_location = 'supple-comfort-444210-e6-4eb484f4b2a7.json'"
   ]
  },
  {
   "cell_type": "code",
   "execution_count": 3,
   "id": "2666e568-9904-4b93-be6f-379e3f396fc2",
   "metadata": {},
   "outputs": [],
   "source": [
    "\n",
    "conf = SparkConf() \\\n",
    "    .setMaster('local[*]') \\\n",
    "    .setAppName('test') \\\n",
    "    .set(\"spark.jars\", \"./lib/gcs-connector-hadoop3-2.2.5.jar\") \\\n",
    "    .set(\"spark.hadoop.google.cloud.auth.service.account.enable\", \"true\") \\\n",
    "    .set(\"spark.hadoop.google.cloud.auth.service.account.json.keyfile\", credentials_location)"
   ]
  },
  {
   "cell_type": "code",
   "execution_count": 4,
   "id": "2ce81a3d-0210-48c7-a05d-7ef1def534b8",
   "metadata": {},
   "outputs": [
    {
     "name": "stderr",
     "output_type": "stream",
     "text": [
      "24/12/18 12:54:19 WARN NativeCodeLoader: Unable to load native-hadoop library for your platform... using builtin-java classes where applicable\n",
      "Setting default log level to \"WARN\".\n",
      "To adjust logging level use sc.setLogLevel(newLevel). For SparkR, use setLogLevel(newLevel).\n"
     ]
    }
   ],
   "source": [
    "sc = SparkContext(conf=conf)\n",
    "\n",
    "hadoop_conf = sc._jsc.hadoopConfiguration()\n",
    "\n",
    "hadoop_conf.set(\"fs.AbstractFileSystem.gs.impl\",  \"com.google.cloud.hadoop.fs.gcs.GoogleHadoopFS\")\n",
    "hadoop_conf.set(\"fs.gs.impl\", \"com.google.cloud.hadoop.fs.gcs.GoogleHadoopFileSystem\")\n",
    "hadoop_conf.set(\"fs.gs.auth.service.account.json.keyfile\", credentials_location)\n",
    "hadoop_conf.set(\"fs.gs.auth.service.account.enable\", \"true\")"
   ]
  },
  {
   "cell_type": "code",
   "execution_count": 5,
   "id": "678b2e63-c71a-4b5a-a795-4fc182bbb461",
   "metadata": {},
   "outputs": [],
   "source": [
    "spark = SparkSession.builder \\\n",
    "    .config(conf=sc.getConf()) \\\n",
    "    .getOrCreate()"
   ]
  },
  {
   "cell_type": "code",
   "execution_count": 6,
   "id": "3f859001-2f1b-4fcc-a6e0-ac2138000d10",
   "metadata": {},
   "outputs": [
    {
     "name": "stderr",
     "output_type": "stream",
     "text": [
      "                                                                                \r"
     ]
    }
   ],
   "source": [
    "df_green = spark.read.parquet('gs://mage-zoom-kabeera1/pq/green/*/*')"
   ]
  },
  {
   "cell_type": "code",
   "execution_count": 7,
   "id": "094fe1a6-fdb0-4551-8e35-a5334f833b4a",
   "metadata": {},
   "outputs": [
    {
     "name": "stderr",
     "output_type": "stream",
     "text": [
      "[Stage 1:>                                                          (0 + 1) / 1]\r"
     ]
    },
    {
     "name": "stdout",
     "output_type": "stream",
     "text": [
      "+--------+--------------------+---------------------+------------------+----------+------------+------------+---------------+-------------+-----------+-----+-------+----------+------------+---------+---------------------+------------+------------+---------+--------------------+\n",
      "|VendorID|lpep_pickup_datetime|lpep_dropoff_datetime|store_and_fwd_flag|RatecodeID|PULocationID|DOLocationID|passenger_count|trip_distance|fare_amount|extra|mta_tax|tip_amount|tolls_amount|ehail_fee|improvement_surcharge|total_amount|payment_type|trip_type|congestion_surcharge|\n",
      "+--------+--------------------+---------------------+------------------+----------+------------+------------+---------------+-------------+-----------+-----+-------+----------+------------+---------+---------------------+------------+------------+---------+--------------------+\n",
      "|       2| 2020-01-11 04:05:54|  2020-01-11 04:13:49|                 N|       1.0|         129|         129|            1.0|         0.81|        6.5|  0.5|    0.5|      0.71|         0.0|     null|                  0.3|        8.51|         1.0|      1.0|                 0.0|\n",
      "|       2| 2020-01-17 19:33:05|  2020-01-17 19:51:08|                 N|       1.0|          75|          42|            3.0|         2.69|       13.5|  1.0|    0.5|      3.06|         0.0|     null|                  0.3|       18.36|         1.0|      1.0|                 0.0|\n",
      "|       2| 2020-01-30 12:41:00|  2020-01-30 13:30:00|              null|      null|         117|         188|           null|        13.11|      38.57| 2.75|    0.0|       0.0|        2.29|     null|                  0.3|       43.91|        null|     null|                null|\n",
      "|       2| 2020-01-11 21:25:44|  2020-01-11 21:40:11|                 N|       1.0|          41|         151|            1.0|         2.13|       11.0|  0.5|    0.5|       0.0|         0.0|     null|                  0.3|        12.3|         2.0|      1.0|                 0.0|\n",
      "|       2| 2020-01-04 21:45:19|  2020-01-04 21:52:57|                 N|       1.0|         129|         260|            1.0|         0.89|        6.5|  0.5|    0.5|       0.0|         0.0|     null|                  0.3|         7.8|         2.0|      1.0|                 0.0|\n",
      "|       2| 2020-01-15 19:07:07|  2020-01-15 19:12:56|                 N|       1.0|          75|          75|            1.0|         0.88|        5.5|  1.0|    0.5|      1.46|         0.0|     null|                  0.3|        8.76|         1.0|      1.0|                 0.0|\n",
      "|       2| 2020-01-11 00:01:17|  2020-01-11 00:10:14|                 N|       1.0|          66|         232|            1.0|         2.25|        9.5|  0.5|    0.5|      2.71|         0.0|     null|                  0.3|       16.26|         1.0|      1.0|                2.75|\n",
      "|       2| 2020-01-16 14:54:30|  2020-01-16 15:00:39|                 N|       1.0|         129|         129|            2.0|         0.91|        6.0|  0.0|    0.5|       0.0|         0.0|     null|                  0.3|         6.8|         2.0|      1.0|                 0.0|\n",
      "|       2| 2020-01-01 19:53:32|  2020-01-01 20:05:59|                 N|       1.0|          41|         168|            5.0|         2.69|       11.0|  0.0|    0.5|       0.0|         0.0|     null|                  0.3|        11.8|         2.0|      1.0|                 0.0|\n",
      "|       2| 2020-01-21 06:53:00|  2020-01-21 07:24:00|              null|      null|          37|          33|           null|         5.35|      30.99| 2.75|    0.0|       0.0|         0.0|     null|                  0.3|       34.04|        null|     null|                null|\n",
      "|       2| 2020-01-19 12:18:31|  2020-01-19 12:23:29|                 N|       1.0|         129|         129|            1.0|         0.58|        5.0|  0.0|    0.5|       0.0|         0.0|     null|                  0.3|         5.8|         2.0|      1.0|                 0.0|\n",
      "|       2| 2020-01-12 10:38:00|  2020-01-12 10:56:00|              null|      null|          51|          60|           null|         7.83|      27.65| 2.75|    0.0|       0.0|         0.0|     null|                  0.3|        30.7|        null|     null|                null|\n",
      "|       1| 2020-01-04 13:39:34|  2020-01-04 13:43:59|                 N|       1.0|         255|         255|            1.0|          0.5|        5.0|  0.0|    0.5|       0.0|         0.0|     null|                  0.3|         5.8|         2.0|      1.0|                 0.0|\n",
      "|       1| 2020-01-27 14:50:40|  2020-01-27 14:56:26|                 N|       1.0|          95|          95|            1.0|          0.9|        6.0|  0.0|    0.5|      1.35|         0.0|     null|                  0.3|        8.15|         1.0|      1.0|                 0.0|\n",
      "|       2| 2020-01-20 08:41:00|  2020-01-20 09:25:00|              null|      null|          86|         140|           null|        23.88|      67.67| 2.75|    0.0|       0.0|        6.12|     null|                  0.3|       76.84|        null|     null|                null|\n",
      "|       2| 2020-01-07 13:39:00|  2020-01-07 13:52:00|              null|      null|          82|          56|           null|         1.96|      15.89| 2.75|    0.0|       0.0|         0.0|     null|                  0.3|       18.94|        null|     null|                null|\n",
      "|       1| 2020-01-25 10:04:57|  2020-01-25 10:12:57|                 N|       5.0|         182|         213|            1.0|          0.0|        8.0|  0.0|    0.0|       0.0|         0.0|     null|                  0.0|         8.0|         2.0|      2.0|                 0.0|\n",
      "|       2| 2020-01-03 16:29:05|  2020-01-03 16:39:03|                 N|       1.0|           7|         223|            1.0|         1.43|        8.5|  1.0|    0.5|       0.0|         0.0|     null|                  0.3|        10.3|         2.0|      1.0|                 0.0|\n",
      "|       2| 2020-01-09 23:33:28|  2020-01-09 23:38:47|                 N|       1.0|         255|         256|            1.0|         0.85|        5.5|  0.5|    0.5|       0.0|         0.0|     null|                  0.3|         6.8|         2.0|      1.0|                 0.0|\n",
      "|       2| 2020-01-03 23:16:25|  2020-01-03 23:30:25|                 N|       5.0|          69|         247|            1.0|         2.41|       15.0|  0.0|    0.0|       0.0|         0.0|     null|                  0.3|        15.3|         2.0|      2.0|                 0.0|\n",
      "+--------+--------------------+---------------------+------------------+----------+------------+------------+---------------+-------------+-----------+-----+-------+----------+------------+---------+---------------------+------------+------------+---------+--------------------+\n",
      "only showing top 20 rows\n",
      "\n"
     ]
    },
    {
     "name": "stderr",
     "output_type": "stream",
     "text": [
      "                                                                                \r"
     ]
    }
   ],
   "source": [
    "df_green.show()"
   ]
  },
  {
   "cell_type": "code",
   "execution_count": 8,
   "id": "132ed4a9-3f13-4a65-a94e-a400ca5cd6d7",
   "metadata": {},
   "outputs": [
    {
     "name": "stderr",
     "output_type": "stream",
     "text": [
      "                                                                                \r"
     ]
    },
    {
     "data": {
      "text/plain": [
       "2802931"
      ]
     },
     "execution_count": 8,
     "metadata": {},
     "output_type": "execute_result"
    }
   ],
   "source": [
    "df_green.count()"
   ]
  },
  {
   "cell_type": "code",
   "execution_count": null,
   "id": "79624b5a-b87a-4229-b4fb-0e8baaa418f5",
   "metadata": {},
   "outputs": [],
   "source": []
  }
 ],
 "metadata": {
  "kernelspec": {
   "display_name": "Python 3 (ipykernel)",
   "language": "python",
   "name": "python3"
  },
  "language_info": {
   "codemirror_mode": {
    "name": "ipython",
    "version": 3
   },
   "file_extension": ".py",
   "mimetype": "text/x-python",
   "name": "python",
   "nbconvert_exporter": "python",
   "pygments_lexer": "ipython3",
   "version": "3.12.7"
  }
 },
 "nbformat": 4,
 "nbformat_minor": 5
}
