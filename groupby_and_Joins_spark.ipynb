{
 "cells": [
  {
   "cell_type": "code",
   "execution_count": 1,
   "id": "6f7159fd-4546-4362-a5d9-9908a78ed5aa",
   "metadata": {},
   "outputs": [
    {
     "name": "stderr",
     "output_type": "stream",
     "text": [
      "Setting default log level to \"WARN\".\n",
      "To adjust logging level use sc.setLogLevel(newLevel). For SparkR, use setLogLevel(newLevel).\n",
      "24/12/17 21:13:06 WARN NativeCodeLoader: Unable to load native-hadoop library for your platform... using builtin-java classes where applicable\n"
     ]
    }
   ],
   "source": [
    "import pyspark\n",
    "from pyspark.sql import SparkSession\n",
    "\n",
    "spark = SparkSession.builder \\\n",
    "    .master(\"local[*]\") \\\n",
    "    .appName('test') \\\n",
    "    .getOrCreate()"
   ]
  },
  {
   "cell_type": "code",
   "execution_count": 2,
   "id": "e86f214c-5eb5-49ce-91d0-dd3936068b11",
   "metadata": {},
   "outputs": [
    {
     "name": "stderr",
     "output_type": "stream",
     "text": [
      "                                                                                \r"
     ]
    }
   ],
   "source": [
    "df_green = spark.read.parquet('data/pq/green/*/*')"
   ]
  },
  {
   "cell_type": "code",
   "execution_count": 3,
   "id": "43b3e880-62e9-4573-9b6d-87dd9b787ba5",
   "metadata": {},
   "outputs": [
    {
     "name": "stderr",
     "output_type": "stream",
     "text": [
      "                                                                                \r"
     ]
    },
    {
     "name": "stdout",
     "output_type": "stream",
     "text": [
      "+--------+--------------------+---------------------+------------------+----------+------------+------------+---------------+-------------+-----------+-----+-------+----------+------------+---------+---------------------+------------+------------+---------+--------------------+\n",
      "|VendorID|lpep_pickup_datetime|lpep_dropoff_datetime|store_and_fwd_flag|RatecodeID|PULocationID|DOLocationID|passenger_count|trip_distance|fare_amount|extra|mta_tax|tip_amount|tolls_amount|ehail_fee|improvement_surcharge|total_amount|payment_type|trip_type|congestion_surcharge|\n",
      "+--------+--------------------+---------------------+------------------+----------+------------+------------+---------------+-------------+-----------+-----+-------+----------+------------+---------+---------------------+------------+------------+---------+--------------------+\n",
      "|       2| 2020-01-11 04:05:54|  2020-01-11 04:13:49|                 N|       1.0|         129|         129|            1.0|         0.81|        6.5|  0.5|    0.5|      0.71|         0.0|     null|                  0.3|        8.51|         1.0|      1.0|                 0.0|\n",
      "|       2| 2020-01-17 19:33:05|  2020-01-17 19:51:08|                 N|       1.0|          75|          42|            3.0|         2.69|       13.5|  1.0|    0.5|      3.06|         0.0|     null|                  0.3|       18.36|         1.0|      1.0|                 0.0|\n",
      "|       2| 2020-01-30 12:41:00|  2020-01-30 13:30:00|              null|      null|         117|         188|           null|        13.11|      38.57| 2.75|    0.0|       0.0|        2.29|     null|                  0.3|       43.91|        null|     null|                null|\n",
      "|       2| 2020-01-11 21:25:44|  2020-01-11 21:40:11|                 N|       1.0|          41|         151|            1.0|         2.13|       11.0|  0.5|    0.5|       0.0|         0.0|     null|                  0.3|        12.3|         2.0|      1.0|                 0.0|\n",
      "|       2| 2020-01-04 21:45:19|  2020-01-04 21:52:57|                 N|       1.0|         129|         260|            1.0|         0.89|        6.5|  0.5|    0.5|       0.0|         0.0|     null|                  0.3|         7.8|         2.0|      1.0|                 0.0|\n",
      "|       2| 2020-01-15 19:07:07|  2020-01-15 19:12:56|                 N|       1.0|          75|          75|            1.0|         0.88|        5.5|  1.0|    0.5|      1.46|         0.0|     null|                  0.3|        8.76|         1.0|      1.0|                 0.0|\n",
      "|       2| 2020-01-11 00:01:17|  2020-01-11 00:10:14|                 N|       1.0|          66|         232|            1.0|         2.25|        9.5|  0.5|    0.5|      2.71|         0.0|     null|                  0.3|       16.26|         1.0|      1.0|                2.75|\n",
      "|       2| 2020-01-16 14:54:30|  2020-01-16 15:00:39|                 N|       1.0|         129|         129|            2.0|         0.91|        6.0|  0.0|    0.5|       0.0|         0.0|     null|                  0.3|         6.8|         2.0|      1.0|                 0.0|\n",
      "|       2| 2020-01-01 19:53:32|  2020-01-01 20:05:59|                 N|       1.0|          41|         168|            5.0|         2.69|       11.0|  0.0|    0.5|       0.0|         0.0|     null|                  0.3|        11.8|         2.0|      1.0|                 0.0|\n",
      "|       2| 2020-01-21 06:53:00|  2020-01-21 07:24:00|              null|      null|          37|          33|           null|         5.35|      30.99| 2.75|    0.0|       0.0|         0.0|     null|                  0.3|       34.04|        null|     null|                null|\n",
      "|       2| 2020-01-19 12:18:31|  2020-01-19 12:23:29|                 N|       1.0|         129|         129|            1.0|         0.58|        5.0|  0.0|    0.5|       0.0|         0.0|     null|                  0.3|         5.8|         2.0|      1.0|                 0.0|\n",
      "|       2| 2020-01-12 10:38:00|  2020-01-12 10:56:00|              null|      null|          51|          60|           null|         7.83|      27.65| 2.75|    0.0|       0.0|         0.0|     null|                  0.3|        30.7|        null|     null|                null|\n",
      "|       1| 2020-01-04 13:39:34|  2020-01-04 13:43:59|                 N|       1.0|         255|         255|            1.0|          0.5|        5.0|  0.0|    0.5|       0.0|         0.0|     null|                  0.3|         5.8|         2.0|      1.0|                 0.0|\n",
      "|       1| 2020-01-27 14:50:40|  2020-01-27 14:56:26|                 N|       1.0|          95|          95|            1.0|          0.9|        6.0|  0.0|    0.5|      1.35|         0.0|     null|                  0.3|        8.15|         1.0|      1.0|                 0.0|\n",
      "|       2| 2020-01-20 08:41:00|  2020-01-20 09:25:00|              null|      null|          86|         140|           null|        23.88|      67.67| 2.75|    0.0|       0.0|        6.12|     null|                  0.3|       76.84|        null|     null|                null|\n",
      "|       2| 2020-01-07 13:39:00|  2020-01-07 13:52:00|              null|      null|          82|          56|           null|         1.96|      15.89| 2.75|    0.0|       0.0|         0.0|     null|                  0.3|       18.94|        null|     null|                null|\n",
      "|       1| 2020-01-25 10:04:57|  2020-01-25 10:12:57|                 N|       5.0|         182|         213|            1.0|          0.0|        8.0|  0.0|    0.0|       0.0|         0.0|     null|                  0.0|         8.0|         2.0|      2.0|                 0.0|\n",
      "|       2| 2020-01-03 16:29:05|  2020-01-03 16:39:03|                 N|       1.0|           7|         223|            1.0|         1.43|        8.5|  1.0|    0.5|       0.0|         0.0|     null|                  0.3|        10.3|         2.0|      1.0|                 0.0|\n",
      "|       2| 2020-01-09 23:33:28|  2020-01-09 23:38:47|                 N|       1.0|         255|         256|            1.0|         0.85|        5.5|  0.5|    0.5|       0.0|         0.0|     null|                  0.3|         6.8|         2.0|      1.0|                 0.0|\n",
      "|       2| 2020-01-03 23:16:25|  2020-01-03 23:30:25|                 N|       5.0|          69|         247|            1.0|         2.41|       15.0|  0.0|    0.0|       0.0|         0.0|     null|                  0.3|        15.3|         2.0|      2.0|                 0.0|\n",
      "+--------+--------------------+---------------------+------------------+----------+------------+------------+---------------+-------------+-----------+-----+-------+----------+------------+---------+---------------------+------------+------------+---------+--------------------+\n",
      "only showing top 20 rows\n",
      "\n"
     ]
    }
   ],
   "source": [
    "df_green.show()"
   ]
  },
  {
   "cell_type": "code",
   "execution_count": 4,
   "id": "271654e1-5d10-424c-aa84-9ca579f93e48",
   "metadata": {},
   "outputs": [],
   "source": [
    "from pyspark.sql import functions as F\n"
   ]
  },
  {
   "cell_type": "code",
   "execution_count": 9,
   "id": "8a06ce91-e467-47b1-8f28-2503b793b40e",
   "metadata": {},
   "outputs": [],
   "source": [
    "# Perform the same transformations and calculations using DataFrame API\n",
    "df_green_revenue = df_green \\\n",
    "    .withColumn('hour', F.date_trunc('hour', F.col('lpep_pickup_datetime'))) \\\n",
    "    .filter(F.col('lpep_pickup_datetime') >= '2020-01-01 00:00:00') \\\n",
    "    .groupBy('hour', 'PULocationID') \\\n",
    "    .agg(\n",
    "        F.sum('total_amount').alias('amount'),\n",
    "        F.count('*').alias('number_records')  # Count all rows in the group\n",
    "    )\n"
   ]
  },
  {
   "cell_type": "code",
   "execution_count": 10,
   "id": "4d16fd6c-e0bf-4cd3-a7a0-03e2b5b3167d",
   "metadata": {},
   "outputs": [
    {
     "name": "stderr",
     "output_type": "stream",
     "text": [
      "[Stage 5:============================================>              (3 + 1) / 4]\r"
     ]
    },
    {
     "name": "stdout",
     "output_type": "stream",
     "text": [
      "+-------------------+------------+------------------+--------------+\n",
      "|               hour|PULocationID|            amount|number_records|\n",
      "+-------------------+------------+------------------+--------------+\n",
      "|2020-01-22 18:00:00|          49|            163.25|             8|\n",
      "|2020-01-23 13:00:00|         260|            135.01|             9|\n",
      "|2020-01-05 19:00:00|         216|            249.89|             7|\n",
      "|2020-01-16 13:00:00|          82| 309.4800000000002|            30|\n",
      "|2020-01-17 08:00:00|         116|333.40000000000003|            20|\n",
      "|2020-01-05 14:00:00|          74|1208.1699999999987|            87|\n",
      "|2020-01-16 22:00:00|          35|             64.75|             2|\n",
      "|2020-01-08 20:00:00|          65| 447.3200000000001|            32|\n",
      "|2020-01-12 04:00:00|          80|            178.57|            11|\n",
      "|2020-01-22 09:00:00|          74|1390.3599999999988|           101|\n",
      "|2020-01-04 08:00:00|         260|38.150000000000006|             4|\n",
      "|2020-01-22 14:00:00|          25| 365.2900000000001|            22|\n",
      "|2020-01-09 11:00:00|         225|            380.23|            19|\n",
      "|2020-01-12 14:00:00|          74|1007.6399999999993|            72|\n",
      "|2020-01-10 19:00:00|         166| 308.9800000000001|            20|\n",
      "|2020-01-17 14:00:00|         140|141.20000000000002|             4|\n",
      "|2020-01-03 14:00:00|           7| 583.3200000000002|            32|\n",
      "|2020-01-11 15:00:00|         220|14.600000000000001|             2|\n",
      "|2020-01-09 16:00:00|         197|1141.5900000000001|            27|\n",
      "|2020-01-04 15:00:00|          91|126.27999999999999|             4|\n",
      "+-------------------+------------+------------------+--------------+\n",
      "only showing top 20 rows\n",
      "\n"
     ]
    },
    {
     "name": "stderr",
     "output_type": "stream",
     "text": [
      "                                                                                \r"
     ]
    }
   ],
   "source": [
    "df_green_revenue.show()"
   ]
  },
  {
   "cell_type": "code",
   "execution_count": 11,
   "id": "77b5bf97-cc58-48e0-ad26-bfb7fe5a2f6e",
   "metadata": {},
   "outputs": [
    {
     "name": "stderr",
     "output_type": "stream",
     "text": [
      "                                                                                \r"
     ]
    }
   ],
   "source": [
    "df_green_revenue \\\n",
    "    .repartition(20) \\\n",
    "    .write.parquet('data/report/revenue/green', mode='overwrite')"
   ]
  },
  {
   "cell_type": "code",
   "execution_count": null,
   "id": "e84991a0-134a-40b4-98b6-60c705c68294",
   "metadata": {},
   "outputs": [],
   "source": []
  },
  {
   "cell_type": "code",
   "execution_count": null,
   "id": "87165512-3e84-405d-835d-0a8fb99e15cb",
   "metadata": {},
   "outputs": [],
   "source": []
  },
  {
   "cell_type": "code",
   "execution_count": 14,
   "id": "2a0fc131-280a-4e41-84b4-3e2e7c00da77",
   "metadata": {},
   "outputs": [],
   "source": [
    "df_yellow = spark.read.parquet('data/pq/yellow/*/*')"
   ]
  },
  {
   "cell_type": "code",
   "execution_count": 16,
   "id": "470da0ec-6a4a-4516-9694-faddd29281d6",
   "metadata": {},
   "outputs": [],
   "source": [
    "# Perform the same transformations and calculations using DataFrame API\n",
    "df_yellow_revenue = df_yellow \\\n",
    "    .withColumn('hour', F.date_trunc('hour', F.col('tpep_pickup_datetime'))) \\\n",
    "    .filter(F.col('tpep_pickup_datetime') >= '2020-01-01 00:00:00') \\\n",
    "    .groupBy('hour', 'PULocationID') \\\n",
    "    .agg(\n",
    "        F.sum('total_amount').alias('amount'),\n",
    "        F.count('*').alias('number_records')  # Count all rows in the group\n",
    "    )"
   ]
  },
  {
   "cell_type": "code",
   "execution_count": 17,
   "id": "ff870134-e7ee-409a-84e6-d06ec06433fd",
   "metadata": {},
   "outputs": [
    {
     "name": "stderr",
     "output_type": "stream",
     "text": [
      "[Stage 16:====================================================>   (13 + 1) / 14]\r"
     ]
    },
    {
     "name": "stdout",
     "output_type": "stream",
     "text": [
      "+-------------------+------------+------------------+--------------+\n",
      "|               hour|PULocationID|            amount|number_records|\n",
      "+-------------------+------------+------------------+--------------+\n",
      "|2020-01-14 14:00:00|         138|14898.500000000011|           339|\n",
      "|2020-01-11 22:00:00|         132|18350.820000000014|           355|\n",
      "|2020-01-22 16:00:00|         230| 9063.570000000022|           507|\n",
      "|2020-01-12 02:00:00|           4|1224.3199999999997|            71|\n",
      "|2020-01-13 11:00:00|         237| 7470.460000000018|           550|\n",
      "|2020-01-04 17:00:00|         143|2078.5999999999995|           135|\n",
      "|2020-01-28 19:00:00|         238|3897.2200000000016|           247|\n",
      "|2020-01-08 08:00:00|          68|           3530.24|           223|\n",
      "|2020-01-20 13:00:00|         163| 6030.090000000009|           345|\n",
      "|2020-01-21 08:00:00|         113|3592.9900000000002|           225|\n",
      "|2020-01-20 19:00:00|          48|4079.9000000000024|           262|\n",
      "|2020-01-26 12:00:00|         113|2891.2499999999986|           196|\n",
      "|2020-01-21 20:00:00|         132| 26911.15999999995|           498|\n",
      "|2020-01-14 13:00:00|         238|3767.7700000000027|           246|\n",
      "|2020-01-04 18:00:00|         186| 6382.860000000012|           366|\n",
      "|2020-01-15 23:00:00|           4|            205.26|            12|\n",
      "|2020-01-09 17:00:00|         164| 5335.370000000004|           315|\n",
      "|2020-01-02 22:00:00|         140|1302.4499999999996|            73|\n",
      "|2020-01-02 14:00:00|         163| 5962.800000000012|           335|\n",
      "|2020-01-15 09:00:00|         238| 4803.910000000006|           287|\n",
      "+-------------------+------------+------------------+--------------+\n",
      "only showing top 20 rows\n",
      "\n"
     ]
    },
    {
     "name": "stderr",
     "output_type": "stream",
     "text": [
      "                                                                                \r"
     ]
    }
   ],
   "source": [
    "df_yellow_revenue.show()"
   ]
  },
  {
   "cell_type": "code",
   "execution_count": 18,
   "id": "5704de27-cc34-4f70-913e-bd600ae88be5",
   "metadata": {},
   "outputs": [
    {
     "name": "stderr",
     "output_type": "stream",
     "text": [
      "                                                                                \r"
     ]
    }
   ],
   "source": [
    "df_yellow_revenue \\\n",
    "    .repartition(20) \\\n",
    "    .write.parquet('data/report/revenue/yellow', mode='overwrite')"
   ]
  },
  {
   "cell_type": "code",
   "execution_count": null,
   "id": "5e8e3da8-10ff-49bd-806c-711e5e87847d",
   "metadata": {},
   "outputs": [],
   "source": []
  },
  {
   "cell_type": "code",
   "execution_count": 19,
   "id": "9e13ac21-287d-4418-bca5-beacc6e91e0e",
   "metadata": {},
   "outputs": [],
   "source": [
    "df_green_revenue = spark.read.parquet('data/report/revenue/green')\n",
    "df_yellow_revenue = spark.read.parquet('data/report/revenue/yellow')"
   ]
  },
  {
   "cell_type": "code",
   "execution_count": 22,
   "id": "ea09e1bf-89c4-4ef1-a9f8-a51c164e6197",
   "metadata": {},
   "outputs": [
    {
     "data": {
      "text/plain": [
       "['hour', 'PULocationID', 'amount', 'number_records']"
      ]
     },
     "execution_count": 22,
     "metadata": {},
     "output_type": "execute_result"
    }
   ],
   "source": [
    "df_green_revenue.columns"
   ]
  },
  {
   "cell_type": "code",
   "execution_count": 23,
   "id": "ecd858fd-e96f-473e-b3e1-6913a642c9ef",
   "metadata": {},
   "outputs": [
    {
     "data": {
      "text/plain": [
       "['hour', 'PULocationID', 'amount', 'number_records']"
      ]
     },
     "execution_count": 23,
     "metadata": {},
     "output_type": "execute_result"
    }
   ],
   "source": [
    "df_yellow_revenue.columns"
   ]
  },
  {
   "cell_type": "code",
   "execution_count": 24,
   "id": "faeb7b0f-71e9-4fc2-8cd4-562c060e07e3",
   "metadata": {},
   "outputs": [],
   "source": [
    "df_green_revenue_tmp = df_green_revenue \\\n",
    "    .withColumnRenamed('amount', 'green_amount') \\\n",
    "    .withColumnRenamed('number_records', 'green_number_records')\n",
    "\n",
    "df_yellow_revenue_tmp = df_yellow_revenue \\\n",
    "    .withColumnRenamed('amount', 'yellow_amount') \\\n",
    "    .withColumnRenamed('number_records', 'yellow_number_records')"
   ]
  },
  {
   "cell_type": "code",
   "execution_count": 25,
   "id": "1e2d046e-c9f1-46be-ad84-bc2cabf96158",
   "metadata": {},
   "outputs": [],
   "source": [
    "df_join = df_green_revenue_tmp.join(df_yellow_revenue_tmp, on=['hour', 'PULocationID'], how='outer')"
   ]
  },
  {
   "cell_type": "code",
   "execution_count": 26,
   "id": "19dd908d-35ae-4ebf-b488-771ce97df435",
   "metadata": {},
   "outputs": [
    {
     "name": "stderr",
     "output_type": "stream",
     "text": [
      "[Stage 31:>                                                         (0 + 1) / 1]\r"
     ]
    },
    {
     "name": "stdout",
     "output_type": "stream",
     "text": [
      "+-------------------+------------+------------------+--------------------+------------------+---------------------+\n",
      "|               hour|PULocationID|      green_amount|green_number_records|     yellow_amount|yellow_number_records|\n",
      "+-------------------+------------+------------------+--------------------+------------------+---------------------+\n",
      "|2020-01-01 00:00:00|          10|              null|                null|             42.41|                    2|\n",
      "|2020-01-01 00:00:00|          17|            195.03|                   9|220.20999999999998|                    8|\n",
      "|2020-01-01 00:00:00|          35|            129.96|                   5|              null|                 null|\n",
      "|2020-01-01 00:00:00|          36|295.34000000000003|                  11|            109.17|                    3|\n",
      "|2020-01-01 00:00:00|          42| 799.7599999999992|                  52| 635.3500000000004|                   46|\n",
      "|2020-01-01 00:00:00|          45|              null|                null| 732.4800000000004|                   42|\n",
      "|2020-01-01 00:00:00|          50|              null|                null| 4177.480000000003|                  183|\n",
      "|2020-01-01 00:00:00|          68|              null|                null| 7825.070000000012|                  396|\n",
      "|2020-01-01 00:00:00|          70|54.900000000000006|                   3|               9.3|                    1|\n",
      "|2020-01-01 00:00:00|          71|              23.8|                   1|              null|                 null|\n",
      "|2020-01-01 00:00:00|          73|              null|                null|              17.3|                    1|\n",
      "|2020-01-01 00:00:00|          76|            143.78|                   4|             35.51|                    2|\n",
      "|2020-01-01 00:00:00|          77| 75.99000000000001|                   2|            134.24|                    3|\n",
      "|2020-01-01 00:00:00|          79|              null|                null|12573.810000000003|                  721|\n",
      "|2020-01-01 00:00:00|          82| 305.1200000000001|                  28|              29.8|                    1|\n",
      "|2020-01-01 00:00:00|          83|              94.1|                   7|               9.8|                    1|\n",
      "|2020-01-01 00:00:00|         107|              null|                null| 6441.030000000009|                  380|\n",
      "|2020-01-01 00:00:00|         112|312.26000000000005|                  18|119.47999999999999|                    8|\n",
      "|2020-01-01 00:00:00|         114|              null|                null| 6256.430000000009|                  333|\n",
      "|2020-01-01 00:00:00|         125|              null|                null|           1342.07|                   68|\n",
      "+-------------------+------------+------------------+--------------------+------------------+---------------------+\n",
      "only showing top 20 rows\n",
      "\n"
     ]
    },
    {
     "name": "stderr",
     "output_type": "stream",
     "text": [
      "                                                                                \r"
     ]
    }
   ],
   "source": [
    "df_join.show()"
   ]
  },
  {
   "cell_type": "code",
   "execution_count": 27,
   "id": "85136f41-3e11-4e7b-826a-00cd46a5a448",
   "metadata": {},
   "outputs": [
    {
     "name": "stderr",
     "output_type": "stream",
     "text": [
      "                                                                                \r"
     ]
    }
   ],
   "source": [
    "df_join.write.parquet('data/report/revenue/total', mode='overwrite')"
   ]
  },
  {
   "cell_type": "code",
   "execution_count": 28,
   "id": "ee2a8494-2753-4331-b307-7aacec0b3434",
   "metadata": {},
   "outputs": [],
   "source": [
    "df_join = spark.read.parquet('data/report/revenue/total')"
   ]
  },
  {
   "cell_type": "code",
   "execution_count": 29,
   "id": "6b4ad857-6816-4b74-b639-0c3fc27e5472",
   "metadata": {},
   "outputs": [
    {
     "name": "stdout",
     "output_type": "stream",
     "text": [
      "+-------------------+------------+------------------+--------------------+------------------+---------------------+\n",
      "|               hour|PULocationID|      green_amount|green_number_records|     yellow_amount|yellow_number_records|\n",
      "+-------------------+------------+------------------+--------------------+------------------+---------------------+\n",
      "|2020-01-01 00:00:00|           4|              null|                null|            1004.3|                   57|\n",
      "|2020-01-01 00:00:00|           7| 769.7299999999996|                  45| 455.1700000000002|                   38|\n",
      "|2020-01-01 00:00:00|          22|              15.8|                   1|              null|                 null|\n",
      "|2020-01-01 00:00:00|          25|             531.0|                  26|324.34999999999997|                   16|\n",
      "|2020-01-01 00:00:00|          33|317.27000000000004|                  11|            255.56|                    8|\n",
      "|2020-01-01 00:00:00|          34|              null|                null|              19.3|                    1|\n",
      "|2020-01-01 00:00:00|          41|1363.9599999999987|                  84|1256.5299999999997|                   80|\n",
      "|2020-01-01 00:00:00|          43|            107.52|                   6| 6539.510000000016|                  390|\n",
      "|2020-01-01 00:00:00|          49|266.76000000000005|                  14|            185.65|                   10|\n",
      "|2020-01-01 00:00:00|          52|             83.33|                   4|              49.8|                    2|\n",
      "|2020-01-01 00:00:00|          56|             99.69|                   3|              18.1|                    2|\n",
      "|2020-01-01 00:00:00|          59|50.900000000000006|                   3|              null|                 null|\n",
      "|2020-01-01 00:00:00|          60|            160.04|                   6|57.620000000000005|                    2|\n",
      "|2020-01-01 00:00:00|          62|             15.95|                   1|             61.43|                    1|\n",
      "|2020-01-01 00:00:00|          63|              51.9|                   2|              70.8|                    1|\n",
      "|2020-01-01 00:00:00|          74| 317.0900000000001|                  24| 586.2100000000003|                   47|\n",
      "|2020-01-01 00:00:00|          94| 64.24000000000001|                   3|              13.3|                    1|\n",
      "|2020-01-01 00:00:00|          97|            786.18|                  25|            403.02|                   20|\n",
      "|2020-01-01 00:00:00|         119|             67.77|                   4|              47.3|                    2|\n",
      "|2020-01-01 00:00:00|         130|            133.35|                   7|              null|                 null|\n",
      "+-------------------+------------+------------------+--------------------+------------------+---------------------+\n",
      "only showing top 20 rows\n",
      "\n"
     ]
    }
   ],
   "source": [
    "df_join.show()"
   ]
  },
  {
   "cell_type": "code",
   "execution_count": null,
   "id": "d202f769-b64f-462d-be36-2854540949b2",
   "metadata": {},
   "outputs": [],
   "source": []
  },
  {
   "cell_type": "code",
   "execution_count": null,
   "id": "b57d914e-9c3d-4357-879b-40a730591ac8",
   "metadata": {},
   "outputs": [],
   "source": []
  },
  {
   "cell_type": "code",
   "execution_count": 31,
   "id": "26935360-6fd3-404c-947d-6bf00c8dac0f",
   "metadata": {},
   "outputs": [
    {
     "name": "stdout",
     "output_type": "stream",
     "text": [
      "--2024-12-17 23:38:51--  https://d37ci6vzurychx.cloudfront.net/misc/taxi_zone_lookup.csv\n",
      "Resolving d37ci6vzurychx.cloudfront.net (d37ci6vzurychx.cloudfront.net)... 54.230.209.72, 54.230.209.140, 54.230.209.126, ...\n",
      "Connecting to d37ci6vzurychx.cloudfront.net (d37ci6vzurychx.cloudfront.net)|54.230.209.72|:443... connected.\n",
      "HTTP request sent, awaiting response... 200 OK\n",
      "Length: 12331 (12K) [text/csv]\n",
      "Saving to: ‘taxi_zone_lookup.csv’\n",
      "\n",
      "taxi_zone_lookup.cs 100%[===================>]  12.04K  --.-KB/s    in 0.001s  \n",
      "\n",
      "2024-12-17 23:38:51 (19.7 MB/s) - ‘taxi_zone_lookup.csv’ saved [12331/12331]\n",
      "\n"
     ]
    }
   ],
   "source": [
    "!wget https://d37ci6vzurychx.cloudfront.net/misc/taxi_zone_lookup.csv"
   ]
  },
  {
   "cell_type": "code",
   "execution_count": 33,
   "id": "7b9aba86-96f6-4698-be08-3fdfbf0d9178",
   "metadata": {},
   "outputs": [],
   "source": [
    "df_zones = spark.read \\\n",
    "    .option(\"header\", \"true\") \\\n",
    "    .csv('taxi_zone_lookup.csv')"
   ]
  },
  {
   "cell_type": "code",
   "execution_count": 34,
   "id": "40257746-09df-4cc5-a83e-8b8a6fc98fe4",
   "metadata": {},
   "outputs": [
    {
     "name": "stdout",
     "output_type": "stream",
     "text": [
      "+----------+-------------+--------------------+------------+\n",
      "|LocationID|      Borough|                Zone|service_zone|\n",
      "+----------+-------------+--------------------+------------+\n",
      "|         1|          EWR|      Newark Airport|         EWR|\n",
      "|         2|       Queens|         Jamaica Bay|   Boro Zone|\n",
      "|         3|        Bronx|Allerton/Pelham G...|   Boro Zone|\n",
      "|         4|    Manhattan|       Alphabet City| Yellow Zone|\n",
      "|         5|Staten Island|       Arden Heights|   Boro Zone|\n",
      "|         6|Staten Island|Arrochar/Fort Wad...|   Boro Zone|\n",
      "|         7|       Queens|             Astoria|   Boro Zone|\n",
      "|         8|       Queens|        Astoria Park|   Boro Zone|\n",
      "|         9|       Queens|          Auburndale|   Boro Zone|\n",
      "|        10|       Queens|        Baisley Park|   Boro Zone|\n",
      "|        11|     Brooklyn|          Bath Beach|   Boro Zone|\n",
      "|        12|    Manhattan|        Battery Park| Yellow Zone|\n",
      "|        13|    Manhattan|   Battery Park City| Yellow Zone|\n",
      "|        14|     Brooklyn|           Bay Ridge|   Boro Zone|\n",
      "|        15|       Queens|Bay Terrace/Fort ...|   Boro Zone|\n",
      "|        16|       Queens|             Bayside|   Boro Zone|\n",
      "|        17|     Brooklyn|             Bedford|   Boro Zone|\n",
      "|        18|        Bronx|        Bedford Park|   Boro Zone|\n",
      "|        19|       Queens|           Bellerose|   Boro Zone|\n",
      "|        20|        Bronx|             Belmont|   Boro Zone|\n",
      "+----------+-------------+--------------------+------------+\n",
      "only showing top 20 rows\n",
      "\n"
     ]
    }
   ],
   "source": [
    "df_zones.show()"
   ]
  },
  {
   "cell_type": "code",
   "execution_count": 35,
   "id": "c0a278c7-227f-40e1-9a00-dc0dbae3897b",
   "metadata": {},
   "outputs": [],
   "source": [
    "df_zones.write.parquet('zones')"
   ]
  },
  {
   "cell_type": "code",
   "execution_count": 36,
   "id": "ecf0769d-6e40-4937-bca7-8882256aef05",
   "metadata": {},
   "outputs": [],
   "source": [
    "df_zones = spark.read.parquet('zones/')"
   ]
  },
  {
   "cell_type": "code",
   "execution_count": 37,
   "id": "44942e49-2918-4afe-a192-16195e4c6ba4",
   "metadata": {},
   "outputs": [
    {
     "data": {
      "text/plain": [
       "['hour',\n",
       " 'PULocationID',\n",
       " 'green_amount',\n",
       " 'green_number_records',\n",
       " 'yellow_amount',\n",
       " 'yellow_number_records']"
      ]
     },
     "execution_count": 37,
     "metadata": {},
     "output_type": "execute_result"
    }
   ],
   "source": [
    "df_join.columns"
   ]
  },
  {
   "cell_type": "code",
   "execution_count": 38,
   "id": "22622100-b292-4fce-be9a-28d8c8eefbbb",
   "metadata": {},
   "outputs": [
    {
     "data": {
      "text/plain": [
       "['LocationID', 'Borough', 'Zone', 'service_zone']"
      ]
     },
     "execution_count": 38,
     "metadata": {},
     "output_type": "execute_result"
    }
   ],
   "source": [
    "df_zones.columns"
   ]
  },
  {
   "cell_type": "code",
   "execution_count": 39,
   "id": "e02ed2c6-c22d-4940-b56f-9b857f742984",
   "metadata": {},
   "outputs": [],
   "source": [
    "df_result = df_join.join(df_zones, df_join.PULocationID == df_zones.LocationID)"
   ]
  },
  {
   "cell_type": "code",
   "execution_count": 40,
   "id": "9c2065d9-90fb-40b0-9f1b-d19de314aed7",
   "metadata": {},
   "outputs": [
    {
     "name": "stderr",
     "output_type": "stream",
     "text": [
      "                                                                                \r"
     ]
    }
   ],
   "source": [
    "df_result.drop('LocationID', 'zone').write.parquet('tmp/revenue-zones')"
   ]
  },
  {
   "cell_type": "code",
   "execution_count": 42,
   "id": "2b3ca737-430b-4d34-8c3c-9428c9094273",
   "metadata": {},
   "outputs": [
    {
     "data": {
      "text/plain": [
       "['hour',\n",
       " 'PULocationID',\n",
       " 'green_amount',\n",
       " 'green_number_records',\n",
       " 'yellow_amount',\n",
       " 'yellow_number_records',\n",
       " 'LocationID',\n",
       " 'Borough',\n",
       " 'Zone',\n",
       " 'service_zone']"
      ]
     },
     "execution_count": 42,
     "metadata": {},
     "output_type": "execute_result"
    }
   ],
   "source": [
    "df_result.columns"
   ]
  },
  {
   "cell_type": "code",
   "execution_count": 43,
   "id": "460764f4-0e9d-4e48-bc98-bdbb51cbe6dd",
   "metadata": {},
   "outputs": [],
   "source": [
    "spark.stop()"
   ]
  },
  {
   "cell_type": "code",
   "execution_count": null,
   "id": "ce43c99c-9795-4ac8-b393-e7fbb2403f50",
   "metadata": {},
   "outputs": [],
   "source": []
  }
 ],
 "metadata": {
  "kernelspec": {
   "display_name": "Python 3 (ipykernel)",
   "language": "python",
   "name": "python3"
  },
  "language_info": {
   "codemirror_mode": {
    "name": "ipython",
    "version": 3
   },
   "file_extension": ".py",
   "mimetype": "text/x-python",
   "name": "python",
   "nbconvert_exporter": "python",
   "pygments_lexer": "ipython3",
   "version": "3.12.7"
  }
 },
 "nbformat": 4,
 "nbformat_minor": 5
}
