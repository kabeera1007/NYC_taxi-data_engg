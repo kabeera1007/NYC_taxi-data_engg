{
 "cells": [
  {
   "cell_type": "code",
   "execution_count": 1,
   "id": "a7d8c7f5-0afb-468f-bfa2-b7327a8d33d5",
   "metadata": {},
   "outputs": [],
   "source": [
    "import pyspark\n",
    "from pyspark.sql import SparkSession"
   ]
  },
  {
   "cell_type": "code",
   "execution_count": 2,
   "id": "1bffaf63-fe88-4dce-9d76-9177a8d1c641",
   "metadata": {},
   "outputs": [
    {
     "name": "stderr",
     "output_type": "stream",
     "text": [
      "Setting default log level to \"WARN\".\n",
      "To adjust logging level use sc.setLogLevel(newLevel). For SparkR, use setLogLevel(newLevel).\n",
      "24/12/17 21:03:45 WARN NativeCodeLoader: Unable to load native-hadoop library for your platform... using builtin-java classes where applicable\n"
     ]
    }
   ],
   "source": [
    "spark = SparkSession.builder \\\n",
    "    .master(\"local[*]\") \\\n",
    "    .appName('test') \\\n",
    "    .getOrCreate()"
   ]
  },
  {
   "cell_type": "code",
   "execution_count": 3,
   "id": "3456be0d-700d-4dc5-8958-0fe7e3de1cc2",
   "metadata": {},
   "outputs": [
    {
     "name": "stderr",
     "output_type": "stream",
     "text": [
      "                                                                                \r"
     ]
    }
   ],
   "source": [
    "df_green = spark.read.parquet('data/pq/green/*/*')"
   ]
  },
  {
   "cell_type": "code",
   "execution_count": 4,
   "id": "3d399091-1a46-42e5-a44e-1cfb4512925b",
   "metadata": {},
   "outputs": [
    {
     "name": "stderr",
     "output_type": "stream",
     "text": [
      "[Stage 1:>                                                          (0 + 1) / 1]\r"
     ]
    },
    {
     "name": "stdout",
     "output_type": "stream",
     "text": [
      "+--------+--------------------+---------------------+------------------+----------+------------+------------+---------------+-------------+-----------+-----+-------+----------+------------+---------+---------------------+------------+------------+---------+--------------------+\n",
      "|VendorID|lpep_pickup_datetime|lpep_dropoff_datetime|store_and_fwd_flag|RatecodeID|PULocationID|DOLocationID|passenger_count|trip_distance|fare_amount|extra|mta_tax|tip_amount|tolls_amount|ehail_fee|improvement_surcharge|total_amount|payment_type|trip_type|congestion_surcharge|\n",
      "+--------+--------------------+---------------------+------------------+----------+------------+------------+---------------+-------------+-----------+-----+-------+----------+------------+---------+---------------------+------------+------------+---------+--------------------+\n",
      "|       2| 2020-01-11 04:05:54|  2020-01-11 04:13:49|                 N|       1.0|         129|         129|            1.0|         0.81|        6.5|  0.5|    0.5|      0.71|         0.0|     null|                  0.3|        8.51|         1.0|      1.0|                 0.0|\n",
      "|       2| 2020-01-17 19:33:05|  2020-01-17 19:51:08|                 N|       1.0|          75|          42|            3.0|         2.69|       13.5|  1.0|    0.5|      3.06|         0.0|     null|                  0.3|       18.36|         1.0|      1.0|                 0.0|\n",
      "|       2| 2020-01-30 12:41:00|  2020-01-30 13:30:00|              null|      null|         117|         188|           null|        13.11|      38.57| 2.75|    0.0|       0.0|        2.29|     null|                  0.3|       43.91|        null|     null|                null|\n",
      "|       2| 2020-01-11 21:25:44|  2020-01-11 21:40:11|                 N|       1.0|          41|         151|            1.0|         2.13|       11.0|  0.5|    0.5|       0.0|         0.0|     null|                  0.3|        12.3|         2.0|      1.0|                 0.0|\n",
      "|       2| 2020-01-04 21:45:19|  2020-01-04 21:52:57|                 N|       1.0|         129|         260|            1.0|         0.89|        6.5|  0.5|    0.5|       0.0|         0.0|     null|                  0.3|         7.8|         2.0|      1.0|                 0.0|\n",
      "|       2| 2020-01-15 19:07:07|  2020-01-15 19:12:56|                 N|       1.0|          75|          75|            1.0|         0.88|        5.5|  1.0|    0.5|      1.46|         0.0|     null|                  0.3|        8.76|         1.0|      1.0|                 0.0|\n",
      "|       2| 2020-01-11 00:01:17|  2020-01-11 00:10:14|                 N|       1.0|          66|         232|            1.0|         2.25|        9.5|  0.5|    0.5|      2.71|         0.0|     null|                  0.3|       16.26|         1.0|      1.0|                2.75|\n",
      "|       2| 2020-01-16 14:54:30|  2020-01-16 15:00:39|                 N|       1.0|         129|         129|            2.0|         0.91|        6.0|  0.0|    0.5|       0.0|         0.0|     null|                  0.3|         6.8|         2.0|      1.0|                 0.0|\n",
      "|       2| 2020-01-01 19:53:32|  2020-01-01 20:05:59|                 N|       1.0|          41|         168|            5.0|         2.69|       11.0|  0.0|    0.5|       0.0|         0.0|     null|                  0.3|        11.8|         2.0|      1.0|                 0.0|\n",
      "|       2| 2020-01-21 06:53:00|  2020-01-21 07:24:00|              null|      null|          37|          33|           null|         5.35|      30.99| 2.75|    0.0|       0.0|         0.0|     null|                  0.3|       34.04|        null|     null|                null|\n",
      "|       2| 2020-01-19 12:18:31|  2020-01-19 12:23:29|                 N|       1.0|         129|         129|            1.0|         0.58|        5.0|  0.0|    0.5|       0.0|         0.0|     null|                  0.3|         5.8|         2.0|      1.0|                 0.0|\n",
      "|       2| 2020-01-12 10:38:00|  2020-01-12 10:56:00|              null|      null|          51|          60|           null|         7.83|      27.65| 2.75|    0.0|       0.0|         0.0|     null|                  0.3|        30.7|        null|     null|                null|\n",
      "|       1| 2020-01-04 13:39:34|  2020-01-04 13:43:59|                 N|       1.0|         255|         255|            1.0|          0.5|        5.0|  0.0|    0.5|       0.0|         0.0|     null|                  0.3|         5.8|         2.0|      1.0|                 0.0|\n",
      "|       1| 2020-01-27 14:50:40|  2020-01-27 14:56:26|                 N|       1.0|          95|          95|            1.0|          0.9|        6.0|  0.0|    0.5|      1.35|         0.0|     null|                  0.3|        8.15|         1.0|      1.0|                 0.0|\n",
      "|       2| 2020-01-20 08:41:00|  2020-01-20 09:25:00|              null|      null|          86|         140|           null|        23.88|      67.67| 2.75|    0.0|       0.0|        6.12|     null|                  0.3|       76.84|        null|     null|                null|\n",
      "|       2| 2020-01-07 13:39:00|  2020-01-07 13:52:00|              null|      null|          82|          56|           null|         1.96|      15.89| 2.75|    0.0|       0.0|         0.0|     null|                  0.3|       18.94|        null|     null|                null|\n",
      "|       1| 2020-01-25 10:04:57|  2020-01-25 10:12:57|                 N|       5.0|         182|         213|            1.0|          0.0|        8.0|  0.0|    0.0|       0.0|         0.0|     null|                  0.0|         8.0|         2.0|      2.0|                 0.0|\n",
      "|       2| 2020-01-03 16:29:05|  2020-01-03 16:39:03|                 N|       1.0|           7|         223|            1.0|         1.43|        8.5|  1.0|    0.5|       0.0|         0.0|     null|                  0.3|        10.3|         2.0|      1.0|                 0.0|\n",
      "|       2| 2020-01-09 23:33:28|  2020-01-09 23:38:47|                 N|       1.0|         255|         256|            1.0|         0.85|        5.5|  0.5|    0.5|       0.0|         0.0|     null|                  0.3|         6.8|         2.0|      1.0|                 0.0|\n",
      "|       2| 2020-01-03 23:16:25|  2020-01-03 23:30:25|                 N|       5.0|          69|         247|            1.0|         2.41|       15.0|  0.0|    0.0|       0.0|         0.0|     null|                  0.3|        15.3|         2.0|      2.0|                 0.0|\n",
      "+--------+--------------------+---------------------+------------------+----------+------------+------------+---------------+-------------+-----------+-----+-------+----------+------------+---------+---------------------+------------+------------+---------+--------------------+\n",
      "only showing top 20 rows\n",
      "\n"
     ]
    },
    {
     "name": "stderr",
     "output_type": "stream",
     "text": [
      "                                                                                \r"
     ]
    }
   ],
   "source": [
    "df_green.show()"
   ]
  },
  {
   "cell_type": "code",
   "execution_count": 5,
   "id": "23725001-0c5a-4e21-a967-53663d216e4f",
   "metadata": {},
   "outputs": [
    {
     "name": "stdout",
     "output_type": "stream",
     "text": [
      "root\n",
      " |-- VendorID: long (nullable = true)\n",
      " |-- lpep_pickup_datetime: timestamp_ntz (nullable = true)\n",
      " |-- lpep_dropoff_datetime: timestamp_ntz (nullable = true)\n",
      " |-- store_and_fwd_flag: string (nullable = true)\n",
      " |-- RatecodeID: double (nullable = true)\n",
      " |-- PULocationID: long (nullable = true)\n",
      " |-- DOLocationID: long (nullable = true)\n",
      " |-- passenger_count: double (nullable = true)\n",
      " |-- trip_distance: double (nullable = true)\n",
      " |-- fare_amount: double (nullable = true)\n",
      " |-- extra: double (nullable = true)\n",
      " |-- mta_tax: double (nullable = true)\n",
      " |-- tip_amount: double (nullable = true)\n",
      " |-- tolls_amount: double (nullable = true)\n",
      " |-- ehail_fee: integer (nullable = true)\n",
      " |-- improvement_surcharge: double (nullable = true)\n",
      " |-- total_amount: double (nullable = true)\n",
      " |-- payment_type: double (nullable = true)\n",
      " |-- trip_type: double (nullable = true)\n",
      " |-- congestion_surcharge: double (nullable = true)\n",
      "\n"
     ]
    }
   ],
   "source": [
    "df_green.printSchema()"
   ]
  },
  {
   "cell_type": "code",
   "execution_count": 6,
   "id": "7c4dce66-9ab1-4c44-bca2-813c67ea2c8b",
   "metadata": {},
   "outputs": [],
   "source": [
    "df_yellow = spark.read.parquet('data/pq/yellow/*/*')"
   ]
  },
  {
   "cell_type": "code",
   "execution_count": 7,
   "id": "bf31f718-e44a-413b-8076-4baa5dee7a15",
   "metadata": {},
   "outputs": [
    {
     "name": "stdout",
     "output_type": "stream",
     "text": [
      "root\n",
      " |-- VendorID: long (nullable = true)\n",
      " |-- tpep_pickup_datetime: timestamp_ntz (nullable = true)\n",
      " |-- tpep_dropoff_datetime: timestamp_ntz (nullable = true)\n",
      " |-- passenger_count: double (nullable = true)\n",
      " |-- trip_distance: double (nullable = true)\n",
      " |-- RatecodeID: double (nullable = true)\n",
      " |-- store_and_fwd_flag: string (nullable = true)\n",
      " |-- PULocationID: long (nullable = true)\n",
      " |-- DOLocationID: long (nullable = true)\n",
      " |-- payment_type: long (nullable = true)\n",
      " |-- fare_amount: double (nullable = true)\n",
      " |-- extra: double (nullable = true)\n",
      " |-- mta_tax: double (nullable = true)\n",
      " |-- tip_amount: double (nullable = true)\n",
      " |-- tolls_amount: double (nullable = true)\n",
      " |-- improvement_surcharge: double (nullable = true)\n",
      " |-- total_amount: double (nullable = true)\n",
      " |-- congestion_surcharge: double (nullable = true)\n",
      " |-- airport_fee: integer (nullable = true)\n",
      "\n"
     ]
    }
   ],
   "source": [
    "df_yellow.printSchema()"
   ]
  },
  {
   "cell_type": "code",
   "execution_count": 8,
   "id": "81add439-001b-495c-88c5-aaad259a7930",
   "metadata": {},
   "outputs": [
    {
     "name": "stdout",
     "output_type": "stream",
     "text": [
      "+--------+--------------------+---------------------+---------------+-------------+----------+------------------+------------+------------+------------+-----------+-----+-------+----------+------------+---------------------+------------+--------------------+-----------+\n",
      "|VendorID|tpep_pickup_datetime|tpep_dropoff_datetime|passenger_count|trip_distance|RatecodeID|store_and_fwd_flag|PULocationID|DOLocationID|payment_type|fare_amount|extra|mta_tax|tip_amount|tolls_amount|improvement_surcharge|total_amount|congestion_surcharge|airport_fee|\n",
      "+--------+--------------------+---------------------+---------------+-------------+----------+------------------+------------+------------+------------+-----------+-----+-------+----------+------------+---------------------+------------+--------------------+-----------+\n",
      "|       1| 2020-01-02 18:49:18|  2020-01-02 19:06:24|            0.0|          2.7|       1.0|                 N|         263|         230|           1|       13.0|  3.5|    0.5|      3.45|         0.0|                  0.3|       20.75|                 2.5|       null|\n",
      "|       2| 2020-01-30 19:15:47|  2020-01-30 19:40:38|           null|         4.58|      null|              null|         147|          41|           0|      25.28| 2.75|    0.0|       0.0|         0.0|                  0.3|       28.33|                null|       null|\n",
      "|       2| 2020-01-06 21:05:11|  2020-01-06 21:08:07|            2.0|         0.83|       1.0|                 N|         142|         239|           1|        4.5|  0.5|    0.5|       1.0|         0.0|                  0.3|         9.3|                 2.5|       null|\n",
      "|       2| 2020-01-07 09:13:36|  2020-01-07 09:18:26|            1.0|         0.96|       1.0|                 N|         107|          79|           2|        5.5|  0.0|    0.5|       0.0|         0.0|                  0.3|         8.8|                 2.5|       null|\n",
      "|       2| 2020-01-21 08:42:00|  2020-01-21 08:56:55|            3.0|         2.05|       1.0|                 N|         143|          68|           1|       10.5|  0.0|    0.5|      2.76|         0.0|                  0.3|       16.56|                 2.5|       null|\n",
      "|       1| 2020-01-31 17:03:33|  2020-01-31 17:16:58|            0.0|          2.1|       1.0|                 N|         142|          68|           1|       10.5|  3.5|    0.5|      2.95|         0.0|                  0.3|       17.75|                 2.5|       null|\n",
      "|       2| 2020-01-19 08:27:57|  2020-01-19 08:33:04|            2.0|         0.71|       1.0|                 N|          68|         249|           1|        5.5|  0.0|    0.5|      1.32|         0.0|                  0.3|       10.12|                 2.5|       null|\n",
      "|       2| 2020-01-24 19:32:13|  2020-01-24 19:40:48|            1.0|         2.34|       1.0|                 N|         142|         151|           2|        9.0|  1.0|    0.5|       0.0|         0.0|                  0.3|        13.3|                 2.5|       null|\n",
      "|       1| 2020-01-12 00:42:03|  2020-01-12 00:56:42|            2.0|          6.8|       1.0|                 N|         209|         262|           1|       20.0|  3.0|    0.5|      4.75|         0.0|                  0.3|       28.55|                 2.5|       null|\n",
      "|       2| 2020-01-27 17:04:42|  2020-01-27 17:15:05|            5.0|         1.22|       1.0|                 N|         234|         170|           1|        8.5|  1.0|    0.5|       3.2|         0.0|                  0.3|        16.0|                 2.5|       null|\n",
      "|       2| 2020-01-27 17:15:38|  2020-01-27 17:34:22|            1.0|         5.03|       1.0|                 N|         152|         163|           2|       19.0|  1.0|    0.5|       0.0|         0.0|                  0.3|        23.3|                 2.5|       null|\n",
      "|       2| 2020-01-12 07:14:03|  2020-01-12 07:41:20|            6.0|          9.7|       1.0|                 N|         264|         264|           1|       31.0|  0.0|    0.5|       0.0|         0.0|                  0.3|        31.8|                 0.0|       null|\n",
      "|       1| 2020-01-24 13:15:42|  2020-01-24 13:45:13|            1.0|          6.3|       1.0|                 N|         170|         239|           1|       24.0|  2.5|    0.5|       2.5|         0.0|                  0.3|        29.8|                 2.5|       null|\n",
      "|       1| 2020-01-24 07:38:49|  2020-01-24 07:39:00|            1.0|          0.0|       2.0|                 N|          79|          79|           1|       52.0|  2.5|    0.5|     12.25|        6.12|                  0.3|       73.67|                 2.5|       null|\n",
      "|       2| 2020-01-22 19:18:41|  2020-01-22 19:22:58|            1.0|         0.57|       1.0|                 N|         262|         236|           1|        5.0|  1.0|    0.5|       1.0|         0.0|                  0.3|        10.3|                 2.5|       null|\n",
      "|       2| 2020-01-09 22:52:12|  2020-01-09 22:58:32|            2.0|          1.3|       1.0|                 N|          90|         170|           2|        6.5|  0.5|    0.5|       0.0|         0.0|                  0.3|        10.3|                 2.5|       null|\n",
      "|       2| 2020-01-24 10:29:59|  2020-01-24 10:32:00|            1.0|         0.28|       1.0|                 N|          79|         107|           1|        3.5|  0.0|    0.5|      1.36|         0.0|                  0.3|        8.16|                 2.5|       null|\n",
      "|       2| 2020-01-29 16:30:37|  2020-01-29 16:30:52|            3.0|          0.0|       1.0|                 N|         164|         164|           2|        2.5|  1.0|    0.5|       0.0|         0.0|                  0.3|         6.8|                 2.5|       null|\n",
      "|       2| 2020-01-18 17:26:33|  2020-01-18 17:43:45|            5.0|         2.86|       1.0|                 N|          43|         230|           1|       13.0|  0.0|    0.5|      3.26|         0.0|                  0.3|       19.56|                 2.5|       null|\n",
      "|       2| 2020-01-04 06:36:09|  2020-01-04 06:40:25|            1.0|         0.68|       1.0|                 N|         246|          68|           1|        5.0|  0.0|    0.5|      1.66|         0.0|                  0.3|        9.96|                 2.5|       null|\n",
      "+--------+--------------------+---------------------+---------------+-------------+----------+------------------+------------+------------+------------+-----------+-----+-------+----------+------------+---------------------+------------+--------------------+-----------+\n",
      "only showing top 20 rows\n",
      "\n"
     ]
    }
   ],
   "source": [
    "df_yellow.show()"
   ]
  },
  {
   "cell_type": "code",
   "execution_count": 9,
   "id": "b89b7a34-601c-436c-baa9-eec10f86ca0c",
   "metadata": {},
   "outputs": [
    {
     "data": {
      "text/plain": [
       "{'DOLocationID',\n",
       " 'PULocationID',\n",
       " 'RatecodeID',\n",
       " 'VendorID',\n",
       " 'congestion_surcharge',\n",
       " 'extra',\n",
       " 'fare_amount',\n",
       " 'improvement_surcharge',\n",
       " 'mta_tax',\n",
       " 'passenger_count',\n",
       " 'payment_type',\n",
       " 'store_and_fwd_flag',\n",
       " 'tip_amount',\n",
       " 'tolls_amount',\n",
       " 'total_amount',\n",
       " 'trip_distance'}"
      ]
     },
     "execution_count": 9,
     "metadata": {},
     "output_type": "execute_result"
    }
   ],
   "source": [
    "set(df_green.columns) & set(df_yellow.columns)"
   ]
  },
  {
   "cell_type": "code",
   "execution_count": 10,
   "id": "15f4be99-fa31-4b74-8871-f5fb377aa90a",
   "metadata": {},
   "outputs": [],
   "source": [
    "df_green = df_green \\\n",
    "    .withColumnRenamed('lpep_pickup_datetime', 'pickup_datetime') \\\n",
    "    .withColumnRenamed('lpep_dropoff_datetime', 'dropoff_datetime')"
   ]
  },
  {
   "cell_type": "code",
   "execution_count": 11,
   "id": "aed2646c-726c-4d0c-b054-58d0fb99ac7b",
   "metadata": {},
   "outputs": [],
   "source": [
    "df_yellow = df_yellow \\\n",
    "    .withColumnRenamed('tpep_pickup_datetime', 'pickup_datetime') \\\n",
    "    .withColumnRenamed('tpep_dropoff_datetime', 'dropoff_datetime')"
   ]
  },
  {
   "cell_type": "code",
   "execution_count": 12,
   "id": "2889d80a-6da4-4e50-9629-198fc62c5bda",
   "metadata": {},
   "outputs": [
    {
     "data": {
      "text/plain": [
       "{'DOLocationID',\n",
       " 'PULocationID',\n",
       " 'RatecodeID',\n",
       " 'VendorID',\n",
       " 'congestion_surcharge',\n",
       " 'dropoff_datetime',\n",
       " 'extra',\n",
       " 'fare_amount',\n",
       " 'improvement_surcharge',\n",
       " 'mta_tax',\n",
       " 'passenger_count',\n",
       " 'payment_type',\n",
       " 'pickup_datetime',\n",
       " 'store_and_fwd_flag',\n",
       " 'tip_amount',\n",
       " 'tolls_amount',\n",
       " 'total_amount',\n",
       " 'trip_distance'}"
      ]
     },
     "execution_count": 12,
     "metadata": {},
     "output_type": "execute_result"
    }
   ],
   "source": [
    "set(df_green.columns) & set(df_yellow.columns)"
   ]
  },
  {
   "cell_type": "code",
   "execution_count": 13,
   "id": "f3e7fce6-9346-4826-a80f-eb0f5f3505e2",
   "metadata": {},
   "outputs": [],
   "source": [
    "# to preserve the order of the columns in both the tables\n",
    "common_colums = []\n",
    "\n",
    "yellow_columns = set(df_yellow.columns)\n",
    "\n",
    "for col in df_green.columns:\n",
    "    if col in yellow_columns:\n",
    "        common_colums.append(col)"
   ]
  },
  {
   "cell_type": "code",
   "execution_count": 14,
   "id": "5a0f5099-d328-486c-958c-42a3af994a6c",
   "metadata": {},
   "outputs": [
    {
     "data": {
      "text/plain": [
       "['VendorID',\n",
       " 'pickup_datetime',\n",
       " 'dropoff_datetime',\n",
       " 'store_and_fwd_flag',\n",
       " 'RatecodeID',\n",
       " 'PULocationID',\n",
       " 'DOLocationID',\n",
       " 'passenger_count',\n",
       " 'trip_distance',\n",
       " 'fare_amount',\n",
       " 'extra',\n",
       " 'mta_tax',\n",
       " 'tip_amount',\n",
       " 'tolls_amount',\n",
       " 'improvement_surcharge',\n",
       " 'total_amount',\n",
       " 'payment_type',\n",
       " 'congestion_surcharge']"
      ]
     },
     "execution_count": 14,
     "metadata": {},
     "output_type": "execute_result"
    }
   ],
   "source": [
    "common_colums"
   ]
  },
  {
   "cell_type": "code",
   "execution_count": 15,
   "id": "8df8357f-2357-4da3-9c88-20f37f3790b0",
   "metadata": {},
   "outputs": [],
   "source": [
    "from pyspark.sql import functions as F"
   ]
  },
  {
   "cell_type": "code",
   "execution_count": 16,
   "id": "758a593a-0551-4f07-ad44-3ea192cc3b01",
   "metadata": {},
   "outputs": [],
   "source": [
    "df_green_sel = df_green \\\n",
    "    .select(common_colums) \\\n",
    "    .withColumn('service_type', F.lit('green'))"
   ]
  },
  {
   "cell_type": "code",
   "execution_count": 17,
   "id": "d7f69eaf-b53f-431c-8e26-857c5f0c4f0a",
   "metadata": {},
   "outputs": [],
   "source": [
    "df_yellow_sel = df_yellow \\\n",
    "    .select(common_colums) \\\n",
    "    .withColumn('service_type', F.lit('yellow'))"
   ]
  },
  {
   "cell_type": "code",
   "execution_count": 18,
   "id": "4979a33c-68f9-4c47-b298-dd5bb3262cd4",
   "metadata": {},
   "outputs": [],
   "source": [
    "# now combining the dataset\n",
    "df_trips_data = df_green_sel.unionAll(df_yellow_sel)"
   ]
  },
  {
   "cell_type": "code",
   "execution_count": 19,
   "id": "4dffa1cb-5a94-45d7-94be-506bae1a3b6a",
   "metadata": {},
   "outputs": [
    {
     "name": "stderr",
     "output_type": "stream",
     "text": [
      "[Stage 4:=====================================================>   (17 + 1) / 18]\r"
     ]
    },
    {
     "name": "stdout",
     "output_type": "stream",
     "text": [
      "+------------+--------+\n",
      "|service_type|   count|\n",
      "+------------+--------+\n",
      "|       green| 2802931|\n",
      "|      yellow|55553400|\n",
      "+------------+--------+\n",
      "\n"
     ]
    },
    {
     "name": "stderr",
     "output_type": "stream",
     "text": [
      "                                                                                \r"
     ]
    }
   ],
   "source": [
    "df_trips_data.groupBy('service_type').count().show()"
   ]
  },
  {
   "cell_type": "code",
   "execution_count": 21,
   "id": "70ca000c-cd53-4bf6-97ca-5a6d10da19d8",
   "metadata": {},
   "outputs": [],
   "source": [
    "df_result = (\n",
    "    df_trips_data\n",
    "    .withColumn(\"revenue_month\", F.date_trunc('month', F.col('pickup_datetime')))\n",
    "    .groupBy(\n",
    "        \"PULocationID\",\n",
    "        \"revenue_month\",\n",
    "        \"service_type\"\n",
    "    )\n",
    "    .agg(\n",
    "        F.sum('fare_amount').alias('revenue_monthly_fare'),\n",
    "        F.sum('extra').alias('revenue_monthly_extra'),\n",
    "        F.sum('mta_tax').alias('revenue_monthly_mta_tax'),\n",
    "        F.sum('tip_amount').alias('revenue_monthly_tip_amount'),\n",
    "        F.sum('tolls_amount').alias('revenue_monthly_tolls_amount'),\n",
    "        F.sum('improvement_surcharge').alias('revenue_monthly_improvement_surcharge'),\n",
    "        F.sum('total_amount').alias('revenue_monthly_total_amount'),\n",
    "        F.sum('congestion_surcharge').alias('revenue_monthly_congestion_surcharge'),\n",
    "        F.avg('passenger_count').alias('avg_montly_passenger_count'),\n",
    "        F.avg('trip_distance').alias('avg_montly_trip_distance')\n",
    "    )\n",
    ")"
   ]
  },
  {
   "cell_type": "code",
   "execution_count": 22,
   "id": "66c7c54c-40d1-4abf-b848-f67fb6cc015f",
   "metadata": {},
   "outputs": [
    {
     "name": "stderr",
     "output_type": "stream",
     "text": [
      "[Stage 7:=====================================================>   (17 + 1) / 18]\r"
     ]
    },
    {
     "name": "stdout",
     "output_type": "stream",
     "text": [
      "+------------+-------------------+------------+--------------------+---------------------+-----------------------+--------------------------+----------------------------+-------------------------------------+----------------------------+------------------------------------+--------------------------+------------------------+\n",
      "|PULocationID|      revenue_month|service_type|revenue_monthly_fare|revenue_monthly_extra|revenue_monthly_mta_tax|revenue_monthly_tip_amount|revenue_monthly_tolls_amount|revenue_monthly_improvement_surcharge|revenue_monthly_total_amount|revenue_monthly_congestion_surcharge|avg_montly_passenger_count|avg_montly_trip_distance|\n",
      "+------------+-------------------+------------+--------------------+---------------------+-----------------------+--------------------------+----------------------------+-------------------------------------+----------------------------+------------------------------------+--------------------------+------------------------+\n",
      "|         232|2020-01-01 00:00:00|       green|  7108.4500000000035|                502.0|                  32.55|                       0.0|          186.64000000000004|                    75.29999999999964|           7904.939999999998|                                2.75|        1.1428571428571428|       5.600396825396827|\n",
      "|          61|2020-02-01 00:00:00|       green|   69339.42999999996|               5996.0|                  893.0|        1025.1799999999998|           741.7500000000005|                    999.8999999999397|           79369.61000000083|                              120.75|        1.2360128617363344|       3.522798644450716|\n",
      "|          76|2020-03-01 00:00:00|       green|   29693.68000000006|               225.75|                  160.0|                     59.29|           793.7900000000004|                    402.0000000000095|          31531.759999999842|                                 0.0|        1.2048611111111112|       5.929696521095491|\n",
      "|         168|2020-03-01 00:00:00|       green|  16018.860000000017|                261.5|                  291.5|                    222.31|           624.2900000000004|                   298.50000000000557|          17858.309999999812|                               74.25|        1.2292993630573248|       4.038592375366561|\n",
      "|          77|2021-11-01 00:00:00|       green|   7459.160000000001|               388.45|                   28.0|                     14.97|           345.0700000000003|                   59.099999999999795|                      8297.5|                                 0.0|        1.3833333333333333|       9.540203045685283|\n",
      "|         202|2021-11-01 00:00:00|       green|              2671.8|               139.45|                   20.0|                     28.93|          117.89999999999996|                   23.400000000000034|           3009.730000000001|                                 5.5|                     1.075|       8.063461538461539|\n",
      "|         138|2021-12-01 00:00:00|       green|              953.71|                  5.0|                   12.0|                    188.34|          45.849999999999994|                   11.100000000000001|          1224.2499999999998|                                8.25|        1.2432432432432432|       3.962307692307693|\n",
      "|         194|2020-01-01 00:00:00|       green|  1151.5000000000002|                 41.5|                   11.5|                     11.14|          201.96000000000006|                    9.900000000000002|          1442.3999999999999|                                11.0|        1.2857142857142858|       7.282142857142855|\n",
      "|         168|2019-12-01 00:00:00|       green|                20.0|                  0.5|                    0.5|                       0.0|                         0.0|                                  0.3|                        21.3|                                 0.0|                       1.0|                    6.54|\n",
      "|         260|2020-02-01 00:00:00|       green|   80328.49000000002|              3379.75|                 3330.0|         7016.410000000002|           585.6800000000004|                   2081.6999999998015|           97264.58000000814|                               571.5|        1.5792827504445761|      2.5521661424077866|\n",
      "|          70|2020-03-01 00:00:00|       green|   4011.079999999999|                 35.0|                   65.0|                      75.1|          119.08000000000003|                    71.39999999999968|            4404.46000000001|                               13.75|          1.25503355704698|        4.11386178861789|\n",
      "|          42|2009-01-01 00:00:00|       green|                 7.0|                  0.5|                    0.5|                       0.0|                         0.0|                                  0.3|                         8.3|                                 0.0|                       1.0|                    1.52|\n",
      "|         191|2021-10-01 00:00:00|       green|  7550.8099999999995|    390.6000000000001|                   28.0|                      21.5|          174.77000000000007|                    59.69999999999979|           8228.130000000005|                                 0.0|        1.0526315789473684|      2928.1388442211037|\n",
      "|         128|2021-11-01 00:00:00|       green|   665.4899999999999|                38.25|                    5.0|                     53.97|                         3.0|                    7.499999999999997|           786.9599999999999|                                11.0|                       1.0|       4692.918800000001|\n",
      "|         156|2021-12-01 00:00:00|       green|              5012.0|                 90.5|                   17.0|                       0.0|           555.3500000000003|                   20.100000000000016|           5694.950000000001|                                 0.0|        1.2647058823529411|       24.28970149253732|\n",
      "|         166|2020-01-01 00:00:00|       green|  176918.84999999998|              8583.75|                 7631.5|         23883.97999999969|           2789.599999999978|                     4685.70000000138|          236168.82999996567|                            13691.75|        1.1976834981780322|       2.447640925176953|\n",
      "|         195|2020-01-01 00:00:00|       green|  11358.090000000013|                549.5|                  143.0|                    804.62|           255.0700000000001|                   135.29999999999941|          13429.329999999967|                              129.25|         1.211726384364821|       4.585847619047621|\n",
      "|         237|2020-01-01 00:00:00|       green|             3895.61|                248.5|                    7.5|                       0.0|          176.44000000000005|                   31.500000000000053|           4359.549999999999|                                 0.0|                       1.0|        10.2085046728972|\n",
      "|         207|2020-01-01 00:00:00|       green|  469.68999999999994|                22.75|                   19.5|                       0.0|          26.770000000000003|                    12.90000000000001|           551.6099999999999|                                 0.0|         1.162162162162162|       2.210222222222222|\n",
      "|         243|2020-02-01 00:00:00|       green|   41227.25999999999|               1845.5|                  806.0|         2132.679999999999|                      952.05|                    615.8999999999979|           48293.44000000059|                              752.75|        1.1686251468860165|       4.527726651480644|\n",
      "+------------+-------------------+------------+--------------------+---------------------+-----------------------+--------------------------+----------------------------+-------------------------------------+----------------------------+------------------------------------+--------------------------+------------------------+\n",
      "only showing top 20 rows\n",
      "\n"
     ]
    },
    {
     "name": "stderr",
     "output_type": "stream",
     "text": [
      "                                                                                \r"
     ]
    }
   ],
   "source": [
    "df_result.show()"
   ]
  },
  {
   "cell_type": "code",
   "execution_count": 23,
   "id": "61e04a82-d3db-44c1-881b-a655442a8075",
   "metadata": {},
   "outputs": [
    {
     "name": "stderr",
     "output_type": "stream",
     "text": [
      "                                                                                \r"
     ]
    }
   ],
   "source": [
    "# Write the result to a Parquet file\n",
    "df_result.coalesce(1).write.parquet('data/report/revenue/', mode='overwrite')"
   ]
  },
  {
   "cell_type": "code",
   "execution_count": 24,
   "id": "ecca2604-fbc4-49e3-a7e9-67e40fdeb239",
   "metadata": {},
   "outputs": [],
   "source": [
    "spark.stop()"
   ]
  },
  {
   "cell_type": "code",
   "execution_count": null,
   "id": "2f4790ef-42f4-4860-8eac-b8a1a12263f8",
   "metadata": {},
   "outputs": [],
   "source": []
  },
  {
   "cell_type": "code",
   "execution_count": null,
   "id": "620b55d3-4a22-49d4-ac0b-61e79f234be9",
   "metadata": {},
   "outputs": [],
   "source": []
  },
  {
   "cell_type": "code",
   "execution_count": null,
   "id": "9ebe26a1-c57a-4a6c-85a5-6f3cc9f29300",
   "metadata": {},
   "outputs": [],
   "source": [
    "# now telling spark that this is a dataframe           spark.sql not working giving py4j error but spark is working\n",
    "#df_trips_data.createOrReplaceTempView('trips_data')"
   ]
  },
  {
   "cell_type": "code",
   "execution_count": null,
   "id": "e17cc534-56ed-4b3e-a579-4a4ba9967baf",
   "metadata": {},
   "outputs": [],
   "source": [
    "# List all temporary views\n",
    "#print(\"Registered Views:\")\n",
    "#print(spark.catalog.listTables())\n",
    "\n",
    "# Check if \"trips_data\" appears in the output\n"
   ]
  },
  {
   "cell_type": "code",
   "execution_count": null,
   "id": "56389580-9bef-4137-9851-cbab74cee3bb",
   "metadata": {},
   "outputs": [],
   "source": []
  },
  {
   "cell_type": "code",
   "execution_count": null,
   "id": "50849fab-96c8-4203-b5cc-165358a80320",
   "metadata": {},
   "outputs": [],
   "source": []
  }
 ],
 "metadata": {
  "kernelspec": {
   "display_name": "Python 3 (ipykernel)",
   "language": "python",
   "name": "python3"
  },
  "language_info": {
   "codemirror_mode": {
    "name": "ipython",
    "version": 3
   },
   "file_extension": ".py",
   "mimetype": "text/x-python",
   "name": "python",
   "nbconvert_exporter": "python",
   "pygments_lexer": "ipython3",
   "version": "3.12.7"
  }
 },
 "nbformat": 4,
 "nbformat_minor": 5
}
